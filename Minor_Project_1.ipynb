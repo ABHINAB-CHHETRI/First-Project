{
  "cells": [
    {
      "cell_type": "markdown",
      "metadata": {
        "id": "view-in-github",
        "colab_type": "text"
      },
      "source": [
        "<a href=\"https://colab.research.google.com/github/ABHINAB-CHHETRI/Minor-Projects-AI-ML-Summer-School-Thapar-/blob/main/Minor_Project_1.ipynb\" target=\"_parent\"><img src=\"https://colab.research.google.com/assets/colab-badge.svg\" alt=\"Open In Colab\"/></a>"
      ]
    },
    {
      "cell_type": "code",
      "source": [
        "#Q1\n",
        "L = [11, 12, 13, 14]\n",
        "L.extend([50, 60])\n",
        "L.remove(11)\n",
        "L.remove(13)\n",
        "L.sort()\n",
        "L.sort(reverse=True)\n",
        "found = 13 in L\n",
        "count_elements = len(L)\n",
        "sum_all = sum(L)\n",
        "sum_odd = sum(num for num in L if num % 2 != 0)\n",
        "sum_even = sum(num for num in L if num % 2 == 0)\n",
        "\n",
        "def is_prime(n):\n",
        "    if n < 2:\n",
        "        return False\n",
        "    for i in range(2, int(n**0.5) + 1):\n",
        "        if n % i == 0:\n",
        "            return False\n",
        "    return True\n",
        "\n",
        "sum_prime = sum(num for num in L if is_prime(num))\n",
        "L.clear()\n",
        "del L\n",
        "#Q2\n",
        "D = {1:5.6, 2:7.8, 3:6.6, 4:8.7, 5:7.7}\n",
        "D[8] = 8.8\n",
        "del D[2]\n",
        "key_present = 6 in D\n",
        "count_keys = len(D)\n",
        "sum_values = sum(D.values())\n",
        "D[3] = 7.1\n",
        "D.clear()\n",
        "#Q3\n",
        "S1 = {10, 20, 30, 40, 50, 60}\n",
        "S2 = {40, 50, 60, 70, 80, 90}\n",
        "S1.update([55, 66])\n",
        "S1.discard(10)\n",
        "S1.discard(30)\n",
        "contains_40 = 40 in S1\n",
        "union_set = S1.union(S2)\n",
        "intersection_set = S1.intersection(S2)\n",
        "difference_set = S1.difference(S2)\n",
        "#Q4\n",
        "import random\n",
        "import string\n",
        "\n",
        "random_strings = [''.join(random.choices(string.ascii_letters, k=random.randint(6, 8))) for _ in range(100)]\n",
        "primes = [num for num in range(600, 801) if is_prime(num)]\n",
        "divisible_by_7_9 = [num for num in range(100, 1001) if num % 7 == 0 and num % 9 == 0]\n",
        "\n",
        "#q5\n",
        "list1 = [random.randint(10, 30) for _ in range(10)]\n",
        "list2 = [random.randint(10, 30) for _ in range(10)]\n",
        "common_numbers = set(list1).intersection(set(list2))\n",
        "unique_numbers = set(list1).symmetric_difference(set(list2))\n",
        "min_list1, min_list2 = min(list1), min(list2)\n",
        "max_list1, max_list2 = max(list1), max(list2)\n",
        "sum_list1, sum_list2 = sum(list1), sum(list2)\n"
      ],
      "metadata": {
        "id": "4l61m6aZcfIN"
      },
      "execution_count": null,
      "outputs": []
    },
    {
      "cell_type": "code",
      "source": [
        "import random, string, time, matplotlib.pyplot as plt\n",
        "\n",
        "def is_prime(n):\n",
        "    return n > 1 and all(n % i for i in range(2, int(n**0.5) + 1))\n",
        "\n",
        "# Q6\n",
        "numbers = [random.randint(100, 900) for _ in range(100)]\n",
        "odd_numbers = [n for n in numbers if n % 2]\n",
        "even_numbers = [n for n in numbers if n % 2 == 0]\n",
        "prime_numbers = [n for n in numbers if is_prime(n)]\n",
        "\n",
        "# Q7\n",
        "D = {1: \"One\", 2: \"Two\", 3: \"Three\", 4: \"Four\", 5: \"Five\"}\n",
        "with open(\"dictionary_output.txt\", \"w\") as f:\n",
        "    f.writelines(f\"{k}, {v}\\n\" for k, v in D.items())\n",
        "\n",
        "# Q8\n",
        "L = [\"One\", \"Two\", \"Three\", \"Four\", \"Five\"]\n",
        "with open(\"list_lengths.txt\", \"w\") as f:\n",
        "    f.writelines(f\"{item}, {len(item)}\\n\" for item in L)\n",
        "\n",
        "# Q9\n",
        "with open(\"random_strings.txt\", \"w\") as f:\n",
        "    f.writelines(''.join(random.choices(string.ascii_letters, k=random.randint(10, 15))) + \"\\n\" for _ in range(100))\n",
        "\n",
        "# Q10\n",
        "with open(\"primes_600_800.txt\", \"w\") as f:\n",
        "    f.writelines(str(n) + \"\\n\" for n in range(600, 801) if is_prime(n))\n",
        "\n",
        "# Q11\n",
        "start_time = time.time()\n",
        "time.sleep(1)\n",
        "print(\"Execution Time:\", time.time() - start_time)\n",
        "\n",
        "# Q12\n",
        "sizes = [5000, 10000, 15000, 20000, 25000]\n",
        "times = [time.time() - (start := time.time()) or sorted(random.sample(range(1, 100000), s)) or time.time() - start for s in sizes]\n",
        "plt.plot(sizes, times, marker='o'), plt.xlabel(\"Elements\"), plt.ylabel(\"Time (s)\"), plt.title(\"Sorting Time\"), plt.show()\n",
        "\n",
        "# Q13\n",
        "students = {\"Alice\": [85, 90, 88, 92, 86], \"Bob\": [70, 75, 80, 78, 74], \"Charlie\": [95, 98, 97, 99, 96], \"David\": [60, 65, 63, 68, 62]}\n",
        "averages = {s: sum(m) / len(m) for s, m in students.items()}\n",
        "print(\"Highest Avg:\", max(averages, key=averages.get), \"Lowest Avg:\", min(averages, key=averages.get))\n",
        "\n"
      ],
      "metadata": {
        "id": "aF5ZALKUOz2r"
      },
      "execution_count": null,
      "outputs": []
    }
  ],
  "metadata": {
    "colab": {
      "provenance": [],
      "include_colab_link": true
    },
    "kernelspec": {
      "display_name": "Python 3",
      "name": "python3"
    }
  },
  "nbformat": 4,
  "nbformat_minor": 0
}