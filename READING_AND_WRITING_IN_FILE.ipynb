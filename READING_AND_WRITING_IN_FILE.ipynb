{
  "nbformat": 4,
  "nbformat_minor": 0,
  "metadata": {
    "colab": {
      "provenance": [],
      "authorship_tag": "ABX9TyNhn4Iei+iuytTjoilhntHK",
      "include_colab_link": true
    },
    "kernelspec": {
      "name": "python3",
      "display_name": "Python 3"
    },
    "language_info": {
      "name": "python"
    }
  },
  "cells": [
    {
      "cell_type": "markdown",
      "metadata": {
        "id": "view-in-github",
        "colab_type": "text"
      },
      "source": [
        "<a href=\"https://colab.research.google.com/github/ABHINAB-CHHETRI/Minor-Projects-AI-ML-Summer-School-Thapar-/blob/main/READING_AND_WRITING_IN_FILE.ipynb\" target=\"_parent\"><img src=\"https://colab.research.google.com/assets/colab-badge.svg\" alt=\"Open In Colab\"/></a>"
      ]
    },
    {
      "cell_type": "code",
      "execution_count": 4,
      "metadata": {
        "colab": {
          "base_uri": "https://localhost:8080/"
        },
        "id": "d2TRav0hT2fc",
        "outputId": "af7542c9-9a1d-4864-819d-97b7327125d9"
      },
      "outputs": [
        {
          "output_type": "stream",
          "name": "stdout",
          "text": [
            "file-2.txt\n",
            "file-1.txt\n",
            "file-4.txt\n",
            "file-6.txt\n",
            "file-3.txt\n",
            "file-5.txt\n"
          ]
        }
      ],
      "source": [
        "import os\n",
        "L=os.listdir(\"input\")\n",
        "for f  in L:\n",
        "  print(f)"
      ]
    },
    {
      "cell_type": "code",
      "source": [
        "L"
      ],
      "metadata": {
        "colab": {
          "base_uri": "https://localhost:8080/"
        },
        "id": "jSa0pIFcVMPM",
        "outputId": "a03465bb-2c7b-48df-cc9e-566cb3fe2d54"
      },
      "execution_count": 5,
      "outputs": [
        {
          "output_type": "execute_result",
          "data": {
            "text/plain": [
              "['file-2.txt',\n",
              " 'file-1.txt',\n",
              " 'file-4.txt',\n",
              " 'file-6.txt',\n",
              " 'file-3.txt',\n",
              " 'file-5.txt']"
            ]
          },
          "metadata": {},
          "execution_count": 5
        }
      ]
    },
    {
      "cell_type": "code",
      "source": [
        "for f in L:\n",
        "  Readfp=open('input/'+f)\t\t# Open the file in reading mode\n",
        "  Writefp=open('output/new'+f,'w')\t# Open the file in writing mode\n",
        "  for line in Readfp:\n",
        "    Writefp.write(line.upper())\n",
        "\n",
        "  Writefp.close()\n",
        "  Readfp.close()"
      ],
      "metadata": {
        "id": "Z_FE6EtiVgWO"
      },
      "execution_count": 6,
      "outputs": []
    }
  ]
}